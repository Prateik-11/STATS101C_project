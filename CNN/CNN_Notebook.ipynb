{
 "cells": [
  {
   "cell_type": "markdown",
   "metadata": {
    "id": "Gj2_1GMxAIIE"
   },
   "source": [
    "# Text classification with CNN"
   ]
  },
  {
   "cell_type": "code",
   "execution_count": 4,
   "metadata": {
    "colab": {
     "base_uri": "https://localhost:8080/"
    },
    "id": "3AfrBrP3LYsh",
    "outputId": "147f2240-3b72-4952-a573-76d06488945a"
   },
   "outputs": [],
   "source": [
    "import torch"
   ]
  },
  {
   "cell_type": "code",
   "execution_count": 5,
   "metadata": {
    "id": "_1VGpsdNL__r"
   },
   "outputs": [
    {
     "name": "stdout",
     "output_type": "stream",
     "text": [
      "the 0.418 0.24968 -0.41242 0.1217 0.34527 -0.044457 -0.49688 -0.17862 -0.00066023 -0.6566 0.27843 -0.14767 -0.55677 0.14658 -0.0095095 0.011658 0.10204 -0.12792 -0.8443 -0.12181 -0.016801 -0.33279 -0.1552 -0.23131 -0.19181 -1.8823 -0.76746 0.099051 -0.42125 -0.19526 4.0071 -0.18594 -0.52287 -0.31681 0.00059213 0.0074449 0.17778 -0.15897 0.012041 -0.054223 -0.29871 -0.15749 -0.34758 -0.045637 -0.44251 0.18785 0.0027849 -0.18411 -0.11514 -0.78581\n"
     ]
    }
   ],
   "source": [
    "vocab,embeddings = [],[]\n",
    "\n",
    "with open('/Users/juliabi2020/Desktop/ECE_C147_project/glove/glove.6B.50d.txt','rt', encoding=\"utf8\") as fi:\n",
    "    full_content = fi.read() # read the file\n",
    "    full_content = full_content.strip() # remove leading and trailing whitespace\n",
    "    full_content = full_content.split('\\n') # split the text into a list of lines\n",
    "\n",
    "for i in range(len(full_content)):\n",
    "    i_word = full_content[i].split(' ')[0] # get the word at the start of the line\n",
    "    i_embeddings = [float(val) for val in full_content[i].split(' ')[1:]] # get the embedding of the word in an array\n",
    "    # add the word and the embedding to our lists\n",
    "    vocab.append(i_word)\n",
    "    embeddings.append(i_embeddings)\n",
    "\n",
    "# convert our lists to numpy arrays:\n",
    "import numpy as np\n",
    "vocab_npa = np.array(vocab)\n",
    "embs_npa = np.array(embeddings)"
   ]
  },
  {
   "cell_type": "code",
   "execution_count": 4,
   "metadata": {
    "colab": {
     "base_uri": "https://localhost:8080/"
    },
    "id": "fdbkn8wuRBbR",
    "outputId": "b0f36d72-9d28-477e-85e8-983d5b8be9e8"
   },
   "outputs": [
    {
     "name": "stdout",
     "output_type": "stream",
     "text": [
      "['<pad>' '<unk>' 'the' ',' '.' 'of' 'to' 'and' 'in' 'a']\n",
      "(400002, 50)\n"
     ]
    }
   ],
   "source": [
    "# insert tokens for padding and unknown words into our vocab\n",
    "vocab_npa = np.insert(vocab_npa, 0, '<pad>')\n",
    "vocab_npa = np.insert(vocab_npa, 1, '<unk>')\n",
    "print(vocab_npa[:10])\n",
    "\n",
    "# make embeddings for these 2:\n",
    "# -> for the '<pad>' token, we set it to all zeros\n",
    "# -> for the '<unk>' token, we set it to the mean of all our other embeddings\n",
    "\n",
    "pad_emb_npa = np.zeros((1, embs_npa.shape[1])) \n",
    "unk_emb_npa = np.mean(embs_npa, axis=0, keepdims=True) \n",
    "\n",
    "#insert embeddings for pad and unk tokens to embs_npa.\n",
    "embs_npa = np.vstack((pad_emb_npa,unk_emb_npa,embs_npa))\n",
    "print(embs_npa.shape)"
   ]
  },
  {
   "cell_type": "code",
   "execution_count": 5,
   "metadata": {
    "colab": {
     "base_uri": "https://localhost:8080/"
    },
    "id": "eBpGRxt0RGAB",
    "outputId": "6d25ba2a-74b0-40b1-a6b4-ca7649bbfdba"
   },
   "outputs": [
    {
     "name": "stdout",
     "output_type": "stream",
     "text": [
      "torch.Size([400002, 50])\n"
     ]
    }
   ],
   "source": [
    "import torch\n",
    "my_embedding_layer = torch.nn.Embedding.from_pretrained(torch.from_numpy(embs_npa).float())\n",
    "\n",
    "# sanity check\n",
    "assert my_embedding_layer.weight.shape == embs_npa.shape\n",
    "print(my_embedding_layer.weight.shape)"
   ]
  },
  {
   "cell_type": "code",
   "execution_count": 6,
   "metadata": {
    "id": "RrHiL-35UIcZ"
   },
   "outputs": [],
   "source": [
    "import pandas as pd\n",
    "import json\n",
    "from sklearn.model_selection import train_test_split\n",
    "\n",
    "# load train.csv into a pandas dataframe\n",
    "# we can use any other NLP binary classfication problem here as long as\n",
    "# there are only 2 columns: 'review' and 'label'\n",
    "# where review contains text and label contains 0/1\n",
    "\n",
    "df = pd.read_csv(\"/Users/juliabi2020/Desktop/ECE_C147_project/archive/yelp_review.csv\")"
   ]
  },
  {
   "cell_type": "code",
   "execution_count": 7,
   "metadata": {},
   "outputs": [
    {
     "name": "stdout",
     "output_type": "stream",
     "text": [
      "                                              review  label\n",
      "0  Super simple place but amazing nonetheless. It...      1\n",
      "1  Small unassuming place that changes their menu...      1\n",
      "2  Lester's is located in a beautiful neighborhoo...      1\n",
      "3  Love coming here. Yes the place always needs t...      1\n",
      "4  Had their chocolate almond croissant and it wa...      1\n"
     ]
    }
   ],
   "source": [
    "df_new = df.drop(columns = ['review_id', 'user_id', 'business_id', 'date', 'useful', 'funny', 'cool'])\n",
    "df_new['label'] = df_new.apply(lambda row: int(row.stars>=4), axis = 1)\n",
    "#1: 4 or 5 stars, 0: <4 stars\n",
    "df_new = df_new.drop(columns = ['stars'])\n",
    "df_new = df_new.rename(columns={\"text\": \"review\"})\n",
    "\n",
    "print(df_new.head())\n",
    "df = df_new"
   ]
  },
  {
   "cell_type": "code",
   "execution_count": 8,
   "metadata": {},
   "outputs": [
    {
     "name": "stdout",
     "output_type": "stream",
     "text": [
      "Train:       3683167 rows\n",
      "Test:        1052334 rows\n",
      "Validation:  526167 rows\n"
     ]
    }
   ],
   "source": [
    "train_prop = 0.7 # 70% for training set\n",
    "test_prop = 0.2 # 20% for test set\n",
    "val_prop = 0.1 # 10% for validation set\n",
    "\n",
    "# split the data into training and validation sets\n",
    "train_val_df, test_df = train_test_split(df, test_size=test_prop, shuffle=True, random_state=11)\n",
    "df, val_df = train_test_split(train_val_df, test_size=val_prop/(train_prop+val_prop), shuffle=True, random_state=11)\n",
    "\n",
    "# print the number of rows in each set\n",
    "print(f\"Train:       {len(df)} rows\")\n",
    "print(f\"Test:        {len(test_df)} rows\")\n",
    "print(f\"Validation:  {len(val_df)} rows\")"
   ]
  },
  {
   "cell_type": "code",
   "execution_count": 9,
   "metadata": {
    "id": "zpk-qQSISpU4"
   },
   "outputs": [],
   "source": [
    "class CNNDataset(torch.utils.data.Dataset):\n",
    "    def __init__(self, df, vocab, max_seq_length, pad_token, unk_token):\n",
    "        # make a list of our labels\n",
    "        self.labels = df.label.tolist()\n",
    "\n",
    "        # make a dictionary converting each word to its id in the vocab, as well\n",
    "        # as the reverse lookup\n",
    "        self.word2idx = {term:idx for idx,term in enumerate(vocab)}\n",
    "        self.idx2word = {idx:word for word,idx in self.word2idx.items()} \n",
    "        \n",
    "        self.pad_token,self.unk_token = pad_token,unk_token\n",
    "\n",
    "        self.input_ids = [] \n",
    "        self.sequence_lens = [] \n",
    "        self.labels = []\n",
    "\n",
    "        for i in range(df.shape[0]):\n",
    "            # clean up each sentence and turn it into tensor containing the  \n",
    "            # token ids of each word. Also add padding to make them all the \n",
    "            # same length as the longest sequence\n",
    "            input_ids,sequence_len = self.convert_text_to_input_ids(\n",
    "                df.iloc[i].review,\n",
    "                pad_to_len = max_seq_length) \n",
    "            \n",
    "            self.input_ids.append(input_ids.reshape(-1))\n",
    "            self.sequence_lens.append(sequence_len)\n",
    "            self.labels.append(df.iloc[i].label)\n",
    "        \n",
    "        #sanity checks\n",
    "        assert len(self.input_ids) == df.shape[0]\n",
    "        assert len(self.sequence_lens) == df.shape[0]\n",
    "        assert len(self.labels) == df.shape[0]\n",
    "    \n",
    "    def convert_text_to_input_ids(self,text,pad_to_len):\n",
    "        # truncate excess words (beyond the length we should pad to)\n",
    "        words = text.strip().split()[:pad_to_len]\n",
    "\n",
    "        # add padding till we've reached desired length \n",
    "        deficit = pad_to_len - len(words) \n",
    "        words.extend([self.pad_token]*deficit)\n",
    "\n",
    "        # replace words with their id\n",
    "        for i in range(len(words)):\n",
    "            if words[i] not in self.word2idx:\n",
    "                # if word is not in vocab, then use <unk> token\n",
    "                words[i] = self.word2idx[self.unk_token] \n",
    "            else:\n",
    "                # else find the id associated with the word \n",
    "                words[i] = self.word2idx[words[i]] \n",
    "        return torch.Tensor(words).long(),pad_to_len - deficit\n",
    "\n",
    "    def __len__(self):\n",
    "        # Make dataset compatible with len() function\n",
    "        return len(self.input_ids)\n",
    "    \n",
    "    def __getitem__(self, i):\n",
    "        # for the ith indexm return a dictionary containing id, length and label\n",
    "        sample_dict = dict()\n",
    "        sample_dict['input_ids'] = self.input_ids[i].reshape(-1)\n",
    "        sample_dict['sequence_len'] = torch.tensor(self.sequence_lens[i]).long()\n",
    "        sample_dict['labels'] = torch.tensor(self.labels[i]).type(torch.FloatTensor)\n",
    "        return sample_dict"
   ]
  },
  {
   "cell_type": "code",
   "execution_count": 10,
   "metadata": {
    "id": "DHHgjpseZKXq"
   },
   "outputs": [],
   "source": [
    "class CNNEncoder(torch.nn.Module):\n",
    "    def __init__(self, config):\n",
    "        super(CNNEncoder, self).__init__()\n",
    "        \n",
    "        # use the pretrained embeddings and check whether or not we should\n",
    "        # freeze embeddings from our config dict\n",
    "        pretrained_embeddings = config['pretrained_embeddings'] if 'pretrained_embeddings' in config else None\n",
    "        freeze_embeddings = config['freeze_embeddings'] if 'freeze_embeddings' in config else False\n",
    "        if pretrained_embeddings is not None:\n",
    "            # use pretrained embeddings\n",
    "            self.vocab_size = pretrained_embeddings.shape[0]\n",
    "            self.embedding_dim = pretrained_embeddings.shape[1]\n",
    "            self.embedding = torch.nn.Embedding.from_pretrained(\n",
    "                torch.from_numpy(pretrained_embeddings).float(),\n",
    "                freeze=freeze_embeddings\n",
    "                )\n",
    "        else:\n",
    "            # use randomly initialized embeddings\n",
    "            assert 'vocab' in config and 'embedding_dim' in config\n",
    "            self.vocab_size = config['vocab'].shape[0]\n",
    "            self.embedding_dim = config['embedding_dim']\n",
    "            if freeze_embeddings:\n",
    "                # why would you do this?\n",
    "                print(\n",
    "                    'WARNING:Freezing Randomly Initialized Embeddings!!😭😭😭'\n",
    "                    )\n",
    "            self.embedding = torch.nn.Embedding(\n",
    "                self.vocab_size,\n",
    "                self.embedding_dim,\n",
    "                freeze = freeze_embeddings\n",
    "                )\n",
    "        self.kernel_size = 93\n",
    "        self.out_channels = 32\n",
    "        \n",
    "        # store some values from the config \n",
    "        self.hidden_size = config['hidden_size']\n",
    "\n",
    "        self.cnn = torch.nn.Conv1d(\n",
    "            in_channels = self.embedding_dim,\n",
    "            out_channels = self.out_channels,\n",
    "            kernel_size = self.kernel_size\n",
    "            )\n",
    "        \n",
    "        middle_nodes = int(self.hidden_size / 2)\n",
    "\n",
    "        self.fc1 = torch.nn.Linear(in_features = self.hidden_size, out_features = middle_nodes)\n",
    "        self.fc2 = torch.nn.Linear(in_features = middle_nodes, out_features = 1)\n",
    "        self.relu = torch.nn.functional.relu\n",
    "        self.sigmoid = torch.nn.Sigmoid()\n",
    "\n",
    "    def forward(self, batch):\n",
    "        x = batch['input_ids'].to(device) # lookup token ids for our inputs\n",
    "        x_lengths = batch['sequence_len'] # lookup lengths of our inputs\n",
    "        embed_out = self.embedding(x) # get the embeddings of the token ids\n",
    "\n",
    "        embed_out = embed_out.permute(0,2,1)\n",
    "        \n",
    "        cnn_out = self.cnn(embed_out)\n",
    "\n",
    "        m_flatten = nn.Flatten()\n",
    "        fc1_in = m_flatten(cnn_out)\n",
    "        \n",
    "        #in_features= self.hidden_size\n",
    "        fc1_out = self.fc1(fc1_in)\n",
    "        fc1_out = self.relu(fc1_out)\n",
    "        fc2_out = self.fc2(fc1_out)\n",
    "        final_out = self.sigmoid(fc2_out)\n",
    "        return final_out\n",
    "    \n",
    "    def get_embedding_dims(self):\n",
    "        return self.vocab_size, self.embedding_dim"
   ]
  },
  {
   "cell_type": "code",
   "execution_count": 11,
   "metadata": {
    "id": "xCVdov26beF4"
   },
   "outputs": [],
   "source": [
    "config = {\n",
    "    #model configurations\n",
    "    'batch_size':32,\n",
    "    'max_seq_length':100,\n",
    "    'lr':1e-4,\n",
    "    'label_count':2,\n",
    "    'dropout_prob':2e-1,\n",
    "    'hidden_size':256,\n",
    "\n",
    "    #embeddings configurations\n",
    "    'pretrained_embeddings':embs_npa,\n",
    "    'freeze_embeddings':True,\n",
    "    'vocab':vocab_npa,\n",
    "    'pad_token':'<pad>',\n",
    "    'unk_token':'<unk>',\n",
    "\n",
    "    #data\n",
    "    'train_df': df, #TODO: set val and test to appropriate\n",
    "    'val_df': val_df,\n",
    "    'test_df': test_df,\n",
    "}"
   ]
  },
  {
   "cell_type": "code",
   "execution_count": 11,
   "metadata": {
    "id": "klDnR0Wxb03n"
   },
   "outputs": [],
   "source": [
    "from torch import nn, optim\n",
    "from torch.utils.data import DataLoader\n",
    "\n",
    "train_dataset = CNNDataset(\n",
    "    df = config['train_df'], \n",
    "    vocab = config['vocab'],\n",
    "    max_seq_length = config['max_seq_length'],\n",
    "    pad_token = config['pad_token'],\n",
    "    unk_token = config['unk_token']\n",
    ")\n",
    "val_dataset = CNNDataset(\n",
    "    df = config['val_df'], \n",
    "    vocab = config['vocab'],\n",
    "    max_seq_length = config['max_seq_length'],\n",
    "    pad_token = config['pad_token'],\n",
    "    unk_token = config['unk_token']\n",
    ")\n",
    "test_dataset = CNNDataset(\n",
    "    df = config['test_df'], \n",
    "    vocab = config['vocab'],\n",
    "    max_seq_length = config['max_seq_length'],\n",
    "    pad_token = config['pad_token'],\n",
    "    unk_token = config['unk_token']\n",
    ")\n",
    "\n",
    "train_dataloader = DataLoader(train_dataset, batch_size = config['batch_size'], shuffle = True)\n",
    "val_dataloader = DataLoader(val_dataset, batch_size = config['batch_size'], shuffle = True)\n",
    "test_dataloader = DataLoader(test_dataset, batch_size = config['batch_size'], shuffle = True)\n",
    "\n"
   ]
  },
  {
   "cell_type": "code",
   "execution_count": 82,
   "metadata": {},
   "outputs": [],
   "source": [
    "device = torch.device('cuda' if torch.cuda.is_available() else 'cpu')\n",
    "\n",
    "model = CNNEncoder(config)\n",
    "model.to(device)\n",
    "model.train()\n",
    "\n",
    "loss_criterion = nn.BCELoss()\n",
    "optimizer = optim.Adam(model.parameters(), lr = config['lr'])"
   ]
  },
  {
   "cell_type": "code",
   "execution_count": 83,
   "metadata": {
    "id": "x_bQcvNepZOu"
   },
   "outputs": [],
   "source": [
    "from sklearn.metrics import f1_score\n",
    "from sklearn.metrics import roc_auc_score\n",
    "import matplotlib.pyplot as plt\n",
    "from sklearn.metrics import confusion_matrix, ConfusionMatrixDisplay\n",
    "\n",
    "\n",
    "def validation(model, val_loader):\n",
    "    with torch.no_grad():\n",
    "        all_outputs = []\n",
    "        all_labels = []\n",
    "        for data in val_loader:\n",
    "            labels = data['labels'].to(device)\n",
    "            outputs = model(data)\n",
    "            all_outputs = all_outputs + torch.round(outputs.squeeze()).tolist()\n",
    "            all_labels = all_labels + labels.tolist()\n",
    "        \n",
    "        accuracy = sum([i==j for i, j in zip(all_outputs, all_labels)]) / len(all_labels)\n",
    "        f1 = f1_score(y_pred= all_outputs, y_true=all_labels)\n",
    "\n",
    "        return accuracy, f1\n",
    "\n",
    "def testing(model, test_loader):\n",
    "    with torch.no_grad():\n",
    "        all_outputs = []\n",
    "        all_labels = []\n",
    "        all_scores = []\n",
    "        for data in test_loader:\n",
    "            labels = data['labels'].to(device)\n",
    "            outputs = model(data)\n",
    "            all_scores = all_scores + (outputs.squeeze()).tolist()\n",
    "            all_outputs = all_outputs + torch.round(outputs.squeeze()).tolist()\n",
    "            all_labels = all_labels + labels.tolist()\n",
    "        accuracy = sum([i==j for i, j in zip(all_outputs, all_labels)]) / len(all_labels)\n",
    "        f1 = f1_score(y_pred= all_outputs, y_true=all_labels)\n",
    "        roc = roc_auc_score(y_score= all_scores, y_true=all_labels)\n",
    "        cm = confusion_matrix(all_labels, all_outputs)\n",
    "        disp = ConfusionMatrixDisplay(confusion_matrix=cm)\n",
    "        disp.plot(cmap = 'magma')\n",
    "        plt.show()\n",
    "        print('Test Statistics:')\n",
    "        print()\n",
    "        print(f\"Accuracy     : {accuracy}\")\n",
    "        print(f\"F1 score     : {f1}\")\n",
    "        print(f\"AUC ROC score: {roc}\")\n",
    "        return "
   ]
  },
  {
   "cell_type": "code",
   "execution_count": 85,
   "metadata": {
    "id": "s8VhpNQdoQKV"
   },
   "outputs": [
    {
     "data": {
      "application/vnd.jupyter.widget-view+json": {
       "model_id": "",
       "version_major": 2,
       "version_minor": 0
      },
      "text/plain": [
       "HBox(children=(HTML(value=''), FloatProgress(value=0.0, max=115099.0), HTML(value='')))"
      ]
     },
     "metadata": {},
     "output_type": "display_data"
    },
    {
     "name": "stdout",
     "output_type": "stream",
     "text": [
      "Epoch: 1\n",
      "Training   | Loss: 0.4509 | Accuracy: 0.78% \n",
      "Validation | F1:   0.8466 | Accuracy: 0.78% \n"
     ]
    },
    {
     "data": {
      "application/vnd.jupyter.widget-view+json": {
       "model_id": "",
       "version_major": 2,
       "version_minor": 0
      },
      "text/plain": [
       "HBox(children=(HTML(value=''), FloatProgress(value=0.0, max=115099.0), HTML(value='')))"
      ]
     },
     "metadata": {},
     "output_type": "display_data"
    },
    {
     "name": "stdout",
     "output_type": "stream",
     "text": [
      "Epoch: 2\n",
      "Training   | Loss: 0.4423 | Accuracy: 0.79% \n",
      "Validation | F1:   0.8461 | Accuracy: 0.79% \n"
     ]
    },
    {
     "data": {
      "application/vnd.jupyter.widget-view+json": {
       "model_id": "",
       "version_major": 2,
       "version_minor": 0
      },
      "text/plain": [
       "HBox(children=(HTML(value=''), FloatProgress(value=0.0, max=115099.0), HTML(value='')))"
      ]
     },
     "metadata": {},
     "output_type": "display_data"
    },
    {
     "name": "stdout",
     "output_type": "stream",
     "text": [
      "Epoch: 3\n",
      "Training   | Loss: 0.4364 | Accuracy: 0.79% \n",
      "Validation | F1:   0.8480 | Accuracy: 0.79% \n"
     ]
    },
    {
     "data": {
      "application/vnd.jupyter.widget-view+json": {
       "model_id": "",
       "version_major": 2,
       "version_minor": 0
      },
      "text/plain": [
       "HBox(children=(HTML(value=''), FloatProgress(value=0.0, max=115099.0), HTML(value='')))"
      ]
     },
     "metadata": {},
     "output_type": "display_data"
    },
    {
     "name": "stdout",
     "output_type": "stream",
     "text": [
      "Epoch: 4\n",
      "Training   | Loss: 0.4318 | Accuracy: 0.79% \n",
      "Validation | F1:   0.8497 | Accuracy: 0.79% \n"
     ]
    },
    {
     "data": {
      "application/vnd.jupyter.widget-view+json": {
       "model_id": "",
       "version_major": 2,
       "version_minor": 0
      },
      "text/plain": [
       "HBox(children=(HTML(value=''), FloatProgress(value=0.0, max=115099.0), HTML(value='')))"
      ]
     },
     "metadata": {},
     "output_type": "display_data"
    },
    {
     "name": "stdout",
     "output_type": "stream",
     "text": [
      "Epoch: 5\n",
      "Training   | Loss: 0.4280 | Accuracy: 0.80% \n",
      "Validation | F1:   0.8455 | Accuracy: 0.79% \n"
     ]
    }
   ],
   "source": [
    "from tqdm.notebook import tqdm\n",
    "\n",
    "epochs = 5\n",
    "for epoch in range(1, epochs + 1):\n",
    "  progress_bar = tqdm(train_dataloader, leave=False)\n",
    "  losses = []\n",
    "  accuracies = []\n",
    "  total = 0\n",
    "  for data in progress_bar:\n",
    "    target = data['labels'].to(device)\n",
    "    optimizer.zero_grad()\n",
    "    output = model(data)\n",
    "    \n",
    "    #print(output.shape)\n",
    "    #print(target.shape)\n",
    "    \n",
    "    loss = loss_criterion(output.squeeze(), target)\n",
    "    \n",
    "    loss.backward()\n",
    "    # torch.nn.utils.clip_grad_norm_(model.parameters(), 3)\n",
    "    optimizer.step()\n",
    "    accuracy = torch.sum(target == torch.round(output.squeeze())) / target.shape[0]\n",
    "\n",
    "    losses.append(loss.item())\n",
    "    accuracies.append(accuracy.item())\n",
    "    total += 1\n",
    "\n",
    "    progress_bar.set_description(f'Loss: {loss.item():.3f}, Train Accuracy: {accuracy:.3f}')\n",
    "  \n",
    "  val_accuracy, val_f1 = validation(model, val_dataloader)\n",
    "  print(f'Epoch: {epoch}')\n",
    "  print(f'Training   | Loss: {(sum(losses) / total):.4f} | Accuracy: {(sum(accuracies) / total):.2f}% ')\n",
    "  print(f'Validation | F1:   {val_f1:.4f} | Accuracy: {val_accuracy:.2f}% ')"
   ]
  },
  {
   "cell_type": "markdown",
   "metadata": {
    "id": "oX-i1DiOc_SG"
   },
   "source": [
    "Now we will test our model using the test dataset:"
   ]
  },
  {
   "cell_type": "code",
   "execution_count": 88,
   "metadata": {
    "id": "17VkY0uscvnV"
   },
   "outputs": [
    {
     "data": {
      "image/png": "[encoded data removed]",
      "text/plain": [
       "<Figure size 432x288 with 2 Axes>"
      ]
     },
     "metadata": {
      "needs_background": "light"
     },
     "output_type": "display_data"
    },
    {
     "name": "stdout",
     "output_type": "stream",
     "text": [
      "Test Statistics:\n",
      "\n",
      "Accuracy     : 0.7907784030545435\n",
      "F1 score     : 0.8455359842625196\n",
      "AUC ROC score: 0.8559384051573886\n"
     ]
    }
   ],
   "source": [
    "testing(model, test_dataloader)"
   ]
  },
  {
   "cell_type": "code",
   "execution_count": null,
   "metadata": {},
   "outputs": [],
   "source": []
  }
 ],
 "metadata": {
  "accelerator": "GPU",
  "colab": {
   "provenance": []
  },
  "gpuClass": "standard",
  "kernelspec": {
   "display_name": "Python 3",
   "language": "python",
   "name": "python3"
  },
  "language_info": {
   "codemirror_mode": {
    "name": "ipython",
    "version": 3
   },
   "file_extension": ".py",
   "mimetype": "text/x-python",
   "name": "python",
   "nbconvert_exporter": "python",
   "pygments_lexer": "ipython3",
   "version": "3.8.5"
  },
  "vscode": {
   "interpreter": {
    "hash": "f96c0a065a6f038b4d81e02ec5e62503dd3b71442db074018719e130d8db16de"
   }
  }
 },
 "nbformat": 4,
 "nbformat_minor": 1
}
